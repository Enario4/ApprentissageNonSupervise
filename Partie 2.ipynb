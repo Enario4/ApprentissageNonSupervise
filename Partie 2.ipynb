{
 "cells": [
  {
   "cell_type": "markdown",
   "id": "b6044d9f",
   "metadata": {},
   "source": [
    "# Etude et analyse comparative des méthodes de clustering"
   ]
  },
  {
   "cell_type": "code",
   "execution_count": 1,
   "id": "ca53f070",
   "metadata": {},
   "outputs": [
    {
     "ename": "SyntaxError",
     "evalue": "unterminated string literal (detected at line 11) (1373078182.py, line 11)",
     "output_type": "error",
     "traceback": [
      "\u001b[1;36m  Input \u001b[1;32mIn [1]\u001b[1;36m\u001b[0m\n\u001b[1;33m    path = './dataset\u001b[0m\n\u001b[1;37m           ^\u001b[0m\n\u001b[1;31mSyntaxError\u001b[0m\u001b[1;31m:\u001b[0m unterminated string literal (detected at line 11)\n"
     ]
    }
   ],
   "source": [
    "import numpy as np\n",
    "import pandas as pd\n",
    "import matplotlib.pyplot as plt\n",
    "import time\n",
    "\n",
    "from scipy.io import arff\n",
    "from sklearn import cluster\n",
    "from sklearn import metrics \n",
    "from sklearn.neighbors import NearestNeighbors\n",
    "\n",
    "path = './dataset"
   ]
  },
  {
   "cell_type": "markdown",
   "id": "70b92c02",
   "metadata": {},
   "source": [
    "## Jeu de données x1"
   ]
  },
  {
   "cell_type": "code",
   "execution_count": null,
   "id": "7a1fdbc5",
   "metadata": {},
   "outputs": [],
   "source": [
    "from sklearn.cluster import KMeans\n",
    "from sklearn.metrics import davies_bouldin_score\n",
    "from sklearn.metrics import pairwise_distances\n",
    "\n",
    "filename = \"x1.txt\"\n",
    "databrut = pd.read_csv(path+filename, sep =\" \", skipinitialspace=True)\n",
    "data = databrut\n",
    "datanp = databrut.to_numpy()\n",
    "f0 = [f[0] for f in datanp]\n",
    "f1 = [f[1] for f in datanp]\n",
    "\n",
    "plt.scatter(f0, f1, s=8) #s= : taille des points sur le graphique\n",
    "plt.title(\"Donnees initiales\")\n",
    "plt.show()"
   ]
  },
  {
   "cell_type": "code",
   "execution_count": null,
   "id": "9c71265f",
   "metadata": {},
   "outputs": [],
   "source": [
    "#############################\n",
    "###        K-Means        ###\n",
    "#############################\n",
    "\n",
    "## Ici on détermine k le nombre de clusters optimal\n",
    "#for k in range (2,20):\n",
    "    \n",
    "    tps1 = time.time()\n",
    "    model = cluster.KMeans(n_clusters=k, init='k-means++')\n",
    "    model.fit(datanp)\n",
    "    tps2 = time.time()\n",
    "    labels = model.labels_\n",
    "    iteration = model.n_iter_\n",
    "    #print(\"\\n///////////////// k = \",k,\"/////////////////\")\n",
    "    sil=metrics.silhouette_score(datanp, labels, metric='euclidean')\n",
    "    #print(\"indice de silhouette :\", sil)\n",
    "    #print(\"indice de DB :\", davies_bouldin_score(datanp, labels))"
   ]
  },
  {
   "cell_type": "code",
   "execution_count": null,
   "id": "1460c229",
   "metadata": {},
   "outputs": [],
   "source": [
    "#On choisit k=15 grâce aux résultats précédents\n",
    "tps1 = time.time()\n",
    "model = cluster.KMeans(n_clusters=15, init='k-means++')\n",
    "model.fit(datanp)\n",
    "tps2 = time.time()\n",
    "labels = model.labels_\n",
    "iteration = model.n_iter_\n",
    "\n",
    "plt.scatter(f0, f1, c=labels, s=8)\n",
    "plt.title(\"Donnes apres clustering KMeans\")\n",
    "plt.show()\n",
    "print(\"nb clusters =\",15,\", nb iter =\",iteration, \", runtime = \", round((tps2 - tps1)*1000,2),\"ms\")\n"
   ]
  },
  {
   "cell_type": "raw",
   "id": "c14ee41e",
   "metadata": {},
   "source": [
    "Conclusion k-means : 15 clusters // 3 itérations // 66.16 ms de temps d'execution"
   ]
  },
  {
   "cell_type": "code",
   "execution_count": 2,
   "id": "6c6f97d5",
   "metadata": {},
   "outputs": [
    {
     "ename": "SyntaxError",
     "evalue": "invalid non-printable character U+200B (2806510384.py, line 4)",
     "output_type": "error",
     "traceback": [
      "\u001b[1;36m  Input \u001b[1;32mIn [2]\u001b[1;36m\u001b[0m\n\u001b[1;33m    ​\u001b[0m\n\u001b[1;37m    ^\u001b[0m\n\u001b[1;31mSyntaxError\u001b[0m\u001b[1;31m:\u001b[0m invalid non-printable character U+200B\n"
     ]
    }
   ],
   "source": [
    "#############################\n",
    "###       K-Medoids       ###\n",
    "#############################\n",
    "​\n",
    "from sklearn import metrics\n",
    "import kmedoids\n",
    "from sklearn . metrics . pairwise import euclidean_distances\n",
    "from sklearn . metrics . pairwise import manhattan_distances\n",
    "​\n",
    "# Détermination du nombre de clusters : \n",
    "# for k in range (2,20):\n",
    "\n",
    "# On trouve une nouvelle fois 15 clusters\n",
    "    k = 15\n",
    "    tps1 = time . time ()\n",
    "    distmatrix = manhattan_distances ( datanp )\n",
    "    fp = kmedoids . fasterpam ( distmatrix , k )\n",
    "    tps2 = time . time ()\n",
    "    iter_kmed = fp . n_iter\n",
    "    labels_kmed = fp . labels\n",
    "    print(\"\\n///////////////// k = \",k,\"/////////////////\")\n",
    "    print ( \" Loss with FasterPAM : \" , fp . loss )\n",
    "    sil=metrics.silhouette_score(distmatrix, labels_kmed, metric='manhattan')\n",
    "    print(\"indice de DB :\", davies_bouldin_score(distmatrix, labels_kmed))\n",
    "    print(\"indice de silhouette :\", sil)"
   ]
  },
  {
   "cell_type": "code",
   "execution_count": null,
   "id": "1efc51ee",
   "metadata": {},
   "outputs": [],
   "source": [
    "##############################\n",
    "###      Agglomératif      ###\n",
    "##############################\n"
   ]
  },
  {
   "cell_type": "code",
   "execution_count": null,
   "id": "722f41b5",
   "metadata": {},
   "outputs": [],
   "source": [
    "##############################\n",
    "###         DBSCAN         ###\n",
    "##############################"
   ]
  },
  {
   "cell_type": "code",
   "execution_count": null,
   "id": "3770fc20",
   "metadata": {},
   "outputs": [],
   "source": [
    "#############################\n",
    "###        HDBSCAN        ###\n",
    "#############################"
   ]
  },
  {
   "cell_type": "markdown",
   "id": "e96750d7",
   "metadata": {},
   "source": [
    "## Jeu de données x2"
   ]
  },
  {
   "cell_type": "markdown",
   "id": "b1d709df",
   "metadata": {},
   "source": [
    "## Jeu de données x3"
   ]
  },
  {
   "cell_type": "markdown",
   "id": "8a6b0601",
   "metadata": {},
   "source": [
    "## Jeu de données x4"
   ]
  },
  {
   "cell_type": "markdown",
   "id": "c1d38538",
   "metadata": {},
   "source": [
    "## Jeu de données y1"
   ]
  },
  {
   "cell_type": "markdown",
   "id": "71db7fba",
   "metadata": {},
   "source": [
    "## Jeu de données zz1"
   ]
  },
  {
   "cell_type": "markdown",
   "id": "5e0e08f2",
   "metadata": {},
   "source": [
    "## Jeu de données zz2"
   ]
  },
  {
   "cell_type": "code",
   "execution_count": null,
   "id": "6578c187",
   "metadata": {},
   "outputs": [],
   "source": []
  }
 ],
 "metadata": {
  "kernelspec": {
   "display_name": "Python 3 (ipykernel)",
   "language": "python",
   "name": "python3"
  },
  "language_info": {
   "codemirror_mode": {
    "name": "ipython",
    "version": 3
   },
   "file_extension": ".py",
   "mimetype": "text/x-python",
   "name": "python",
   "nbconvert_exporter": "python",
   "pygments_lexer": "ipython3",
   "version": "3.10.2"
  }
 },
 "nbformat": 4,
 "nbformat_minor": 5
}
